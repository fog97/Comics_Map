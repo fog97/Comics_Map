{
 "cells": [
  {
   "attachments": {},
   "cell_type": "markdown",
   "metadata": {},
   "source": [
    "# Coordinate da Indirizzo"
   ]
  },
  {
   "cell_type": "code",
   "execution_count": 59,
   "metadata": {},
   "outputs": [
    {
     "name": "stdout",
     "output_type": "stream",
     "text": [
      "45.4688535 9.2776371\n"
     ]
    }
   ],
   "source": [
    "from geopy.geocoders import Nominatim\n",
    "locator = Nominatim(user_agent = \"myapp\")\n",
    "location = locator.geocode(\"Via Novegro 20090 Segrate\")\n",
    "start_lat=location.latitude \n",
    "start_lng=location.longitude\n",
    "print(start_lat,start_lng)\n"
   ]
  },
  {
   "cell_type": "code",
   "execution_count": 60,
   "metadata": {},
   "outputs": [
    {
     "name": "stdout",
     "output_type": "stream",
     "text": [
      "45.7578372 9.3097403\n"
     ]
    }
   ],
   "source": [
    "from geopy.geocoders import Nominatim\n",
    "locator = Nominatim(user_agent = \"myapp\")\n",
    "location = locator.geocode(\"Via Como 9 Barzago\")\n",
    "end_lat=location.latitude \n",
    "end_lng=location.longitude\n",
    "print(end_lat,end_lng)"
   ]
  },
  {
   "cell_type": "markdown",
   "metadata": {},
   "source": []
  },
  {
   "attachments": {},
   "cell_type": "markdown",
   "metadata": {},
   "source": [
    "# Calcolo percorso più veloce"
   ]
  },
  {
   "cell_type": "code",
   "execution_count": 61,
   "metadata": {},
   "outputs": [],
   "source": [
    "#Find Distance\n",
    "import osmnx as ox\n",
    "import networkx as nx\n",
    "import numpy as np\n",
    "from IPython.display import IFrame\n",
    "import folium\n",
    "%matplotlib inline\n",
    "\n",
    "np.random.seed(0)\n",
    "ox.__version__\n",
    "\n",
    "ox.settings.log_console=True\n",
    "ox.settings.cache_folder='C:\\\\Users\\\\lucaf\\\\OneDrive\\\\Desktop\\\\Esercizi\\\\Cache'\n",
    "place = \"Lombardy,Italy\"\n",
    "mode=\"drive\"\n",
    "G = ox.graph_from_place(place, network_type=mode)\n",
    "Gp = ox.project_graph(G)"
   ]
  },
  {
   "cell_type": "code",
   "execution_count": 85,
   "metadata": {},
   "outputs": [],
   "source": [
    "orig_point = (start_lat, start_lng) # UTM coordinates\n",
    "dest_point = (end_lat, end_lng)\n",
    "\n",
    "orig_node, dest_node = ox.nearest_nodes(\n",
    "                            Gp,\n",
    "                            X=[orig_point[0], dest_point[0]],\n",
    "                            Y=[orig_point[1], dest_point[1]]\n",
    "                                       )"
   ]
  },
  {
   "cell_type": "code",
   "execution_count": 86,
   "metadata": {},
   "outputs": [],
   "source": [
    "orig_edge, dest_edge = ox.nearest_edges(\n",
    "                            Gp,\n",
    "                            X=[orig_point[0], dest_point[0]],\n",
    "                            Y=[orig_point[1], dest_point[1]]\n",
    "                                       )"
   ]
  },
  {
   "cell_type": "code",
   "execution_count": 87,
   "metadata": {},
   "outputs": [
    {
     "name": "stdout",
     "output_type": "stream",
     "text": [
      "(45.4688535, 9.2776371) (45.7578372, 9.3097403)\n",
      "583043033 583043033\n"
     ]
    }
   ],
   "source": [
    "print(orig_point,dest_point)\n",
    "print(orig_node,dest_node)"
   ]
  },
  {
   "cell_type": "code",
   "execution_count": 80,
   "metadata": {},
   "outputs": [],
   "source": [
    "route = ox.shortest_path(Gp, orig_node, dest_node, weight=\"length\")"
   ]
  },
  {
   "cell_type": "code",
   "execution_count": 81,
   "metadata": {},
   "outputs": [
    {
     "ename": "ValueError",
     "evalue": "graph contains no edges",
     "output_type": "error",
     "traceback": [
      "\u001b[1;31m---------------------------------------------------------------------------\u001b[0m",
      "\u001b[1;31mValueError\u001b[0m                                Traceback (most recent call last)",
      "Cell \u001b[1;32mIn [81], line 1\u001b[0m\n\u001b[1;32m----> 1\u001b[0m shortest_route_map \u001b[39m=\u001b[39m ox\u001b[39m.\u001b[39;49mplot_route_folium(G, route,tiles\u001b[39m=\u001b[39;49m\u001b[39m'\u001b[39;49m\u001b[39mopenstreetmap\u001b[39;49m\u001b[39m'\u001b[39;49m)\n\u001b[0;32m      2\u001b[0m shortest_route_map\n",
      "File \u001b[1;32mc:\\Users\\lucaf\\AppData\\Local\\Programs\\Python\\Python311\\Lib\\site-packages\\osmnx\\folium.py:96\u001b[0m, in \u001b[0;36mplot_route_folium\u001b[1;34m(G, route, route_map, popup_attribute, tiles, zoom, fit_bounds, **kwargs)\u001b[0m\n\u001b[0;32m     94\u001b[0m node_pairs \u001b[39m=\u001b[39m \u001b[39mzip\u001b[39m(route[:\u001b[39m-\u001b[39m\u001b[39m1\u001b[39m], route[\u001b[39m1\u001b[39m:])\n\u001b[0;32m     95\u001b[0m uvk \u001b[39m=\u001b[39m ((u, v, \u001b[39mmin\u001b[39m(G[u][v]\u001b[39m.\u001b[39mitems(), key\u001b[39m=\u001b[39m\u001b[39mlambda\u001b[39;00m k: k[\u001b[39m1\u001b[39m][\u001b[39m\"\u001b[39m\u001b[39mlength\u001b[39m\u001b[39m\"\u001b[39m])[\u001b[39m0\u001b[39m]) \u001b[39mfor\u001b[39;00m u, v \u001b[39min\u001b[39;00m node_pairs)\n\u001b[1;32m---> 96\u001b[0m gdf_edges \u001b[39m=\u001b[39m utils_graph\u001b[39m.\u001b[39;49mgraph_to_gdfs(G\u001b[39m.\u001b[39;49msubgraph(route), nodes\u001b[39m=\u001b[39;49m\u001b[39mFalse\u001b[39;49;00m)\u001b[39m.\u001b[39mloc[uvk]\n\u001b[0;32m     97\u001b[0m \u001b[39mreturn\u001b[39;00m _plot_folium(gdf_edges, route_map, popup_attribute, tiles, zoom, fit_bounds, \u001b[39m*\u001b[39m\u001b[39m*\u001b[39mkwargs)\n",
      "File \u001b[1;32mc:\\Users\\lucaf\\AppData\\Local\\Programs\\Python\\Python311\\Lib\\site-packages\\osmnx\\utils_graph.py:64\u001b[0m, in \u001b[0;36mgraph_to_gdfs\u001b[1;34m(G, nodes, edges, node_geometry, fill_edge_geometry)\u001b[0m\n\u001b[0;32m     61\u001b[0m \u001b[39mif\u001b[39;00m edges:\n\u001b[0;32m     63\u001b[0m     \u001b[39mif\u001b[39;00m \u001b[39mnot\u001b[39;00m G\u001b[39m.\u001b[39medges:  \u001b[39m# pragma: no cover\u001b[39;00m\n\u001b[1;32m---> 64\u001b[0m         \u001b[39mraise\u001b[39;00m \u001b[39mValueError\u001b[39;00m(\u001b[39m\"\u001b[39m\u001b[39mgraph contains no edges\u001b[39m\u001b[39m\"\u001b[39m)\n\u001b[0;32m     66\u001b[0m     u, v, k, data \u001b[39m=\u001b[39m \u001b[39mzip\u001b[39m(\u001b[39m*\u001b[39mG\u001b[39m.\u001b[39medges(keys\u001b[39m=\u001b[39m\u001b[39mTrue\u001b[39;00m, data\u001b[39m=\u001b[39m\u001b[39mTrue\u001b[39;00m))\n\u001b[0;32m     68\u001b[0m     \u001b[39mif\u001b[39;00m fill_edge_geometry:\n\u001b[0;32m     69\u001b[0m \n\u001b[0;32m     70\u001b[0m         \u001b[39m# subroutine to get geometry for every edge: if edge already has\u001b[39;00m\n\u001b[0;32m     71\u001b[0m         \u001b[39m# geometry return it, otherwise create it using the incident nodes\u001b[39;00m\n",
      "\u001b[1;31mValueError\u001b[0m: graph contains no edges"
     ]
    }
   ],
   "source": [
    "shortest_route_map = ox.plot_route_folium(G, route,tiles='openstreetmap')\n",
    "shortest_route_map"
   ]
  },
  {
   "cell_type": "code",
   "execution_count": null,
   "metadata": {},
   "outputs": [],
   "source": [
    "\n",
    "# see mean speed/time values by road type\n",
    "edges = ox.graph_to_gdfs(G, nodes=False)\n",
    "edges[\"highway\"] = edges[\"highway\"].astype(str)\n",
    "edges.groupby(\"highway\")[[\"length\", \"speed_kph\", \"travel_time\"]].mean().round(1)\n",
    "\n",
    "# same thing again, but this time pass in a few default speed values (km/hour)\n",
    "# to fill in edges with missing `maxspeed` from OSM\n",
    "hwy_speeds = {\"residential\": 35, \"secondary\": 50, \"tertiary\": 60}\n",
    "G = ox.add_edge_speeds(G, hwy_speeds)\n",
    "G = ox.add_edge_travel_times(G)\n",
    "\n",
    "# calculate two routes by minimizing travel distance vs travel time\n",
    "orig = list(G)[1]\n",
    "dest = list(G)[120]\n",
    "route1 = ox.shortest_path(G, orig, dest, weight=\"length\")\n",
    "route2 = ox.shortest_path(G, orig, dest, weight=\"travel_time\")\n",
    "\n",
    "# compare the two routes\n",
    "route1_length = int(sum(ox.utils_graph.get_route_edge_attributes(G, route1, \"length\")))\n",
    "route2_length = int(sum(ox.utils_graph.get_route_edge_attributes(G, route2, \"length\")))\n",
    "route1_time = int(sum(ox.utils_graph.get_route_edge_attributes(G, route1, \"travel_time\")))\n",
    "route2_time = int(sum(ox.utils_graph.get_route_edge_attributes(G, route2, \"travel_time\")))\n",
    "print(\"Route 1 is\", route1_length, \"meters and takes\", route1_time, \"seconds.\")\n",
    "print(\"Route 2 is\", route2_length, \"meters and takes\", route2_time, \"seconds.\")\n"
   ]
  }
 ],
 "metadata": {
  "kernelspec": {
   "display_name": "Python 3",
   "language": "python",
   "name": "python3"
  },
  "language_info": {
   "codemirror_mode": {
    "name": "ipython",
    "version": 3
   },
   "file_extension": ".py",
   "mimetype": "text/x-python",
   "name": "python",
   "nbconvert_exporter": "python",
   "pygments_lexer": "ipython3",
   "version": "3.11.0 (main, Oct 24 2022, 18:26:48) [MSC v.1933 64 bit (AMD64)]"
  },
  "orig_nbformat": 4,
  "vscode": {
   "interpreter": {
    "hash": "ab16d838779ff957ec13a15fcd29b228fa2ddc5d2476f2d643d3f15c9c7b32ed"
   }
  }
 },
 "nbformat": 4,
 "nbformat_minor": 2
}
